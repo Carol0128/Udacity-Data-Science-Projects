{
 "cells": [
  {
   "cell_type": "code",
   "execution_count": 1,
   "metadata": {},
   "outputs": [],
   "source": [
    "# Libraries\n",
    "import pandas as pd\n",
    "import numpy as np\n",
    "import requests\n",
    "import tweepy"
   ]
  },
  {
   "cell_type": "markdown",
   "metadata": {},
   "source": [
    "#### Gathering Data\n",
    "\n",
    "##### 1. The WeRateDogs Twitter archive"
   ]
  },
  {
   "cell_type": "code",
   "execution_count": 2,
   "metadata": {},
   "outputs": [
    {
     "data": {
      "text/html": [
       "<div>\n",
       "<style scoped>\n",
       "    .dataframe tbody tr th:only-of-type {\n",
       "        vertical-align: middle;\n",
       "    }\n",
       "\n",
       "    .dataframe tbody tr th {\n",
       "        vertical-align: top;\n",
       "    }\n",
       "\n",
       "    .dataframe thead th {\n",
       "        text-align: right;\n",
       "    }\n",
       "</style>\n",
       "<table border=\"1\" class=\"dataframe\">\n",
       "  <thead>\n",
       "    <tr style=\"text-align: right;\">\n",
       "      <th></th>\n",
       "      <th>tweet_id</th>\n",
       "      <th>in_reply_to_status_id</th>\n",
       "      <th>in_reply_to_user_id</th>\n",
       "      <th>timestamp</th>\n",
       "      <th>source</th>\n",
       "      <th>text</th>\n",
       "      <th>retweeted_status_id</th>\n",
       "      <th>retweeted_status_user_id</th>\n",
       "      <th>retweeted_status_timestamp</th>\n",
       "      <th>expanded_urls</th>\n",
       "      <th>rating_numerator</th>\n",
       "      <th>rating_denominator</th>\n",
       "      <th>name</th>\n",
       "      <th>doggo</th>\n",
       "      <th>floofer</th>\n",
       "      <th>pupper</th>\n",
       "      <th>puppo</th>\n",
       "    </tr>\n",
       "  </thead>\n",
       "  <tbody>\n",
       "    <tr>\n",
       "      <th>0</th>\n",
       "      <td>892420643555336193</td>\n",
       "      <td>NaN</td>\n",
       "      <td>NaN</td>\n",
       "      <td>2017-08-01 16:23:56 +0000</td>\n",
       "      <td>&lt;a href=\"http://twitter.com/download/iphone\" r...</td>\n",
       "      <td>This is Phineas. He's a mystical boy. Only eve...</td>\n",
       "      <td>NaN</td>\n",
       "      <td>NaN</td>\n",
       "      <td>NaN</td>\n",
       "      <td>https://twitter.com/dog_rates/status/892420643...</td>\n",
       "      <td>13</td>\n",
       "      <td>10</td>\n",
       "      <td>Phineas</td>\n",
       "      <td>None</td>\n",
       "      <td>None</td>\n",
       "      <td>None</td>\n",
       "      <td>None</td>\n",
       "    </tr>\n",
       "    <tr>\n",
       "      <th>1</th>\n",
       "      <td>892177421306343426</td>\n",
       "      <td>NaN</td>\n",
       "      <td>NaN</td>\n",
       "      <td>2017-08-01 00:17:27 +0000</td>\n",
       "      <td>&lt;a href=\"http://twitter.com/download/iphone\" r...</td>\n",
       "      <td>This is Tilly. She's just checking pup on you....</td>\n",
       "      <td>NaN</td>\n",
       "      <td>NaN</td>\n",
       "      <td>NaN</td>\n",
       "      <td>https://twitter.com/dog_rates/status/892177421...</td>\n",
       "      <td>13</td>\n",
       "      <td>10</td>\n",
       "      <td>Tilly</td>\n",
       "      <td>None</td>\n",
       "      <td>None</td>\n",
       "      <td>None</td>\n",
       "      <td>None</td>\n",
       "    </tr>\n",
       "    <tr>\n",
       "      <th>2</th>\n",
       "      <td>891815181378084864</td>\n",
       "      <td>NaN</td>\n",
       "      <td>NaN</td>\n",
       "      <td>2017-07-31 00:18:03 +0000</td>\n",
       "      <td>&lt;a href=\"http://twitter.com/download/iphone\" r...</td>\n",
       "      <td>This is Archie. He is a rare Norwegian Pouncin...</td>\n",
       "      <td>NaN</td>\n",
       "      <td>NaN</td>\n",
       "      <td>NaN</td>\n",
       "      <td>https://twitter.com/dog_rates/status/891815181...</td>\n",
       "      <td>12</td>\n",
       "      <td>10</td>\n",
       "      <td>Archie</td>\n",
       "      <td>None</td>\n",
       "      <td>None</td>\n",
       "      <td>None</td>\n",
       "      <td>None</td>\n",
       "    </tr>\n",
       "    <tr>\n",
       "      <th>3</th>\n",
       "      <td>891689557279858688</td>\n",
       "      <td>NaN</td>\n",
       "      <td>NaN</td>\n",
       "      <td>2017-07-30 15:58:51 +0000</td>\n",
       "      <td>&lt;a href=\"http://twitter.com/download/iphone\" r...</td>\n",
       "      <td>This is Darla. She commenced a snooze mid meal...</td>\n",
       "      <td>NaN</td>\n",
       "      <td>NaN</td>\n",
       "      <td>NaN</td>\n",
       "      <td>https://twitter.com/dog_rates/status/891689557...</td>\n",
       "      <td>13</td>\n",
       "      <td>10</td>\n",
       "      <td>Darla</td>\n",
       "      <td>None</td>\n",
       "      <td>None</td>\n",
       "      <td>None</td>\n",
       "      <td>None</td>\n",
       "    </tr>\n",
       "    <tr>\n",
       "      <th>4</th>\n",
       "      <td>891327558926688256</td>\n",
       "      <td>NaN</td>\n",
       "      <td>NaN</td>\n",
       "      <td>2017-07-29 16:00:24 +0000</td>\n",
       "      <td>&lt;a href=\"http://twitter.com/download/iphone\" r...</td>\n",
       "      <td>This is Franklin. He would like you to stop ca...</td>\n",
       "      <td>NaN</td>\n",
       "      <td>NaN</td>\n",
       "      <td>NaN</td>\n",
       "      <td>https://twitter.com/dog_rates/status/891327558...</td>\n",
       "      <td>12</td>\n",
       "      <td>10</td>\n",
       "      <td>Franklin</td>\n",
       "      <td>None</td>\n",
       "      <td>None</td>\n",
       "      <td>None</td>\n",
       "      <td>None</td>\n",
       "    </tr>\n",
       "  </tbody>\n",
       "</table>\n",
       "</div>"
      ],
      "text/plain": [
       "             tweet_id  in_reply_to_status_id  in_reply_to_user_id  \\\n",
       "0  892420643555336193                    NaN                  NaN   \n",
       "1  892177421306343426                    NaN                  NaN   \n",
       "2  891815181378084864                    NaN                  NaN   \n",
       "3  891689557279858688                    NaN                  NaN   \n",
       "4  891327558926688256                    NaN                  NaN   \n",
       "\n",
       "                   timestamp  \\\n",
       "0  2017-08-01 16:23:56 +0000   \n",
       "1  2017-08-01 00:17:27 +0000   \n",
       "2  2017-07-31 00:18:03 +0000   \n",
       "3  2017-07-30 15:58:51 +0000   \n",
       "4  2017-07-29 16:00:24 +0000   \n",
       "\n",
       "                                              source  \\\n",
       "0  <a href=\"http://twitter.com/download/iphone\" r...   \n",
       "1  <a href=\"http://twitter.com/download/iphone\" r...   \n",
       "2  <a href=\"http://twitter.com/download/iphone\" r...   \n",
       "3  <a href=\"http://twitter.com/download/iphone\" r...   \n",
       "4  <a href=\"http://twitter.com/download/iphone\" r...   \n",
       "\n",
       "                                                text  retweeted_status_id  \\\n",
       "0  This is Phineas. He's a mystical boy. Only eve...                  NaN   \n",
       "1  This is Tilly. She's just checking pup on you....                  NaN   \n",
       "2  This is Archie. He is a rare Norwegian Pouncin...                  NaN   \n",
       "3  This is Darla. She commenced a snooze mid meal...                  NaN   \n",
       "4  This is Franklin. He would like you to stop ca...                  NaN   \n",
       "\n",
       "   retweeted_status_user_id retweeted_status_timestamp  \\\n",
       "0                       NaN                        NaN   \n",
       "1                       NaN                        NaN   \n",
       "2                       NaN                        NaN   \n",
       "3                       NaN                        NaN   \n",
       "4                       NaN                        NaN   \n",
       "\n",
       "                                       expanded_urls  rating_numerator  \\\n",
       "0  https://twitter.com/dog_rates/status/892420643...                13   \n",
       "1  https://twitter.com/dog_rates/status/892177421...                13   \n",
       "2  https://twitter.com/dog_rates/status/891815181...                12   \n",
       "3  https://twitter.com/dog_rates/status/891689557...                13   \n",
       "4  https://twitter.com/dog_rates/status/891327558...                12   \n",
       "\n",
       "   rating_denominator      name doggo floofer pupper puppo  \n",
       "0                  10   Phineas  None    None   None  None  \n",
       "1                  10     Tilly  None    None   None  None  \n",
       "2                  10    Archie  None    None   None  None  \n",
       "3                  10     Darla  None    None   None  None  \n",
       "4                  10  Franklin  None    None   None  None  "
      ]
     },
     "execution_count": 2,
     "metadata": {},
     "output_type": "execute_result"
    }
   ],
   "source": [
    "weratedogs_df = pd.read_csv('twitter-archive-enhanced.csv')\n",
    "weratedogs_df.head(2)"
   ]
  },
  {
   "cell_type": "code",
   "execution_count": 20,
   "metadata": {},
   "outputs": [
    {
     "data": {
      "text/plain": [
       "2356"
      ]
     },
     "execution_count": 20,
     "metadata": {},
     "output_type": "execute_result"
    }
   ],
   "source": [
    "weratedogs_df['tweet_id'].nunique()"
   ]
  },
  {
   "cell_type": "markdown",
   "metadata": {},
   "source": [
    "##### 2. Tweet image predictions"
   ]
  },
  {
   "cell_type": "code",
   "execution_count": 5,
   "metadata": {},
   "outputs": [],
   "source": [
    "url = 'https://d17h27t6h515a5.cloudfront.net/topher/2017/August/599fd2ad_image-predictions/image-predictions.tsv'\n",
    "tweet_image_preds = requests.get(url).content"
   ]
  },
  {
   "cell_type": "code",
   "execution_count": 7,
   "metadata": {},
   "outputs": [
    {
     "data": {
      "text/plain": [
       "str"
      ]
     },
     "execution_count": 7,
     "metadata": {},
     "output_type": "execute_result"
    }
   ],
   "source": [
    "type(tweet_image_preds)"
   ]
  },
  {
   "cell_type": "code",
   "execution_count": 13,
   "metadata": {},
   "outputs": [],
   "source": [
    "import os\n",
    "import config"
   ]
  },
  {
   "cell_type": "code",
   "execution_count": 9,
   "metadata": {},
   "outputs": [],
   "source": [
    "with open(os.path.split(url)[1], 'wb') as f, \\\n",
    "        requests.get(url, stream=True) as r:\n",
    "    for line in r.iter_lines():\n",
    "        f.write(line+'\\n'.encode())"
   ]
  },
  {
   "cell_type": "code",
   "execution_count": 11,
   "metadata": {},
   "outputs": [
    {
     "data": {
      "text/plain": [
       "_io.BufferedWriter"
      ]
     },
     "execution_count": 11,
     "metadata": {},
     "output_type": "execute_result"
    }
   ],
   "source": [
    "type(f)"
   ]
  },
  {
   "cell_type": "markdown",
   "metadata": {},
   "source": [
    "##### 3. Additional data from the Twitter API"
   ]
  },
  {
   "cell_type": "code",
   "execution_count": 15,
   "metadata": {},
   "outputs": [],
   "source": [
    "consumer_key = \"O3gbKK68SNLG6ExuQNQtSOEUz\"\n",
    "consumer_secret = \"tneC1biiCyjcA1P5iGMQOxOjyaw8FeteHhtP8WleyfiMMjXzIM\"\n",
    "access_token = \"1536361928943099904-AXqZYuh5CoITYM2ieCQv8agBg4fuYU\"\n",
    "access_token_secret = \"4O7kHDADgtQP8PkmccQN2Zl3gBNlJ5ZOIydr4GkIeuR9w\"\n",
    "\n",
    "# authentication\n",
    "# auth = tweepy.OAuthHandler(consumer_key, consumer_secret)\n",
    "# auth.set_access_token(access_token, access_token_secret)\n",
    "# api = tweepy.API(auth, wait_on_rate_limit=True)\n",
    "\n",
    "# better alternative for defining the auth function\n",
    "def auth():\n",
    "    try:\n",
    "        auth = tweepy.OAuthHandler(consumer_key, consumer_secret)\n",
    "        auth.set_access_token(access_token, access_token_secret)\n",
    "        api = tweepy.API(auth, wait_on_rate_limit=True)\n",
    "    except:\n",
    "        print(\"An error occurred during the authentication\")\n",
    "    \n",
    "    return api"
   ]
  },
  {
   "cell_type": "code",
   "execution_count": 17,
   "metadata": {},
   "outputs": [],
   "source": [
    "api = auth()"
   ]
  },
  {
   "cell_type": "code",
   "execution_count": 21,
   "metadata": {},
   "outputs": [],
   "source": [
    "import time"
   ]
  },
  {
   "cell_type": "code",
   "execution_count": 14,
   "metadata": {},
   "outputs": [
    {
     "data": {
      "text/plain": [
       "<tweepy.api.API at 0x7f2352807bb0>"
      ]
     },
     "execution_count": 14,
     "metadata": {},
     "output_type": "execute_result"
    }
   ],
   "source": [
    "# test for the first 10\n",
    "\n",
    "username = ''\n",
    "count = 10\n",
    "\n",
    "select_tweet_ids = weratedogs_df['tweet_id'].to_list()[:10]\n",
    "\n",
    "df_user_tweets = pd.DataFrame()\n",
    "\n",
    "try:     \n",
    "    # Creation of query method using appropriate parameters\n",
    "    tweets = tweepy.Cursor(api.user_timeline,id=username).items(count)\n",
    " \n",
    "    \n",
    "    # Pulling information from tweets iterable object and adding relevant tweet information in our data frame\n",
    "    for tweet in tweets:\n",
    "        df_user_tweets = df_user_tweets.append(\n",
    "                          {'Created at' : tweet._json['created_at'],\n",
    "                                       'User ID': tweet._json['id'],\n",
    "                              'User Name': tweet.user._json['name'],\n",
    "                                        'Text': tweet._json['text'],\n",
    "                     'Description': tweet.user._json['description'],\n",
    "                           'Location': tweet.user._json['location'],\n",
    "             'Followers Count': tweet.user._json['followers_count'],\n",
    "                 'Friends Count': tweet.user._json['friends_count'],\n",
    "               'Statuses Count': tweet.user._json['statuses_count'],\n",
    "         'Profile Image Url': tweet.user._json['profile_image_url'],\n",
    "                         }, ignore_index=True)\n",
    "except BaseException as e:\n",
    "    print('failed on_status,',str(e))\n",
    "    time.sleep(3)"
   ]
  },
  {
   "cell_type": "code",
   "execution_count": 22,
   "metadata": {},
   "outputs": [
    {
     "name": "stderr",
     "output_type": "stream",
     "text": [
      "Unexpected parameter: id\n"
     ]
    },
    {
     "ename": "Forbidden",
     "evalue": "403 Forbidden\n453 - You currently have Essential access which includes access to Twitter API v2 endpoints only. If you need access to this endpoint, you’ll need to apply for Elevated access via the Developer Portal. You can learn more here: https://developer.twitter.com/en/docs/twitter-api/getting-started/about-twitter-api#v2-access-leve",
     "output_type": "error",
     "traceback": [
      "\u001b[0;31m---------------------------------------------------------------------------\u001b[0m",
      "\u001b[0;31mForbidden\u001b[0m                                 Traceback (most recent call last)",
      "\u001b[1;32m/home/carol/dev/ALX-T/Udacity-Exercises/Project2 - Wrangling and Analyzing Data/we_rate_dogs_analysis.ipynb Cell 16'\u001b[0m in \u001b[0;36m<cell line: 6>\u001b[0;34m()\u001b[0m\n\u001b[1;32m      <a href='vscode-notebook-cell:/home/carol/dev/ALX-T/Udacity-Exercises/Project2%20-%20Wrangling%20and%20Analyzing%20Data/we_rate_dogs_analysis.ipynb#ch0000016?line=1'>2</a>\u001b[0m count \u001b[39m=\u001b[39m \u001b[39m10\u001b[39m\n\u001b[1;32m      <a href='vscode-notebook-cell:/home/carol/dev/ALX-T/Udacity-Exercises/Project2%20-%20Wrangling%20and%20Analyzing%20Data/we_rate_dogs_analysis.ipynb#ch0000016?line=3'>4</a>\u001b[0m tweets \u001b[39m=\u001b[39m tweepy\u001b[39m.\u001b[39mCursor(api\u001b[39m.\u001b[39muser_timeline,\u001b[39mid\u001b[39m\u001b[39m=\u001b[39musername)\u001b[39m.\u001b[39mitems(count)\n\u001b[0;32m----> <a href='vscode-notebook-cell:/home/carol/dev/ALX-T/Udacity-Exercises/Project2%20-%20Wrangling%20and%20Analyzing%20Data/we_rate_dogs_analysis.ipynb#ch0000016?line=5'>6</a>\u001b[0m tweets_list \u001b[39m=\u001b[39m [[tweet\u001b[39m.\u001b[39mtext, tweet\u001b[39m.\u001b[39mcreated_at, tweet\u001b[39m.\u001b[39mid_str, \n\u001b[1;32m      <a href='vscode-notebook-cell:/home/carol/dev/ALX-T/Udacity-Exercises/Project2%20-%20Wrangling%20and%20Analyzing%20Data/we_rate_dogs_analysis.ipynb#ch0000016?line=6'>7</a>\u001b[0m tweet\u001b[39m.\u001b[39mretweet_count, tweet\u001b[39m.\u001b[39mfavorite_count, tweet\u001b[39m.\u001b[39mlang, \n\u001b[1;32m      <a href='vscode-notebook-cell:/home/carol/dev/ALX-T/Udacity-Exercises/Project2%20-%20Wrangling%20and%20Analyzing%20Data/we_rate_dogs_analysis.ipynb#ch0000016?line=7'>8</a>\u001b[0m tweet\u001b[39m.\u001b[39msource] \u001b[39mfor\u001b[39;00m tweet \u001b[39min\u001b[39;00m tweets]\n",
      "\u001b[1;32m/home/carol/dev/ALX-T/Udacity-Exercises/Project2 - Wrangling and Analyzing Data/we_rate_dogs_analysis.ipynb Cell 16'\u001b[0m in \u001b[0;36m<listcomp>\u001b[0;34m(.0)\u001b[0m\n\u001b[1;32m      <a href='vscode-notebook-cell:/home/carol/dev/ALX-T/Udacity-Exercises/Project2%20-%20Wrangling%20and%20Analyzing%20Data/we_rate_dogs_analysis.ipynb#ch0000016?line=1'>2</a>\u001b[0m count \u001b[39m=\u001b[39m \u001b[39m10\u001b[39m\n\u001b[1;32m      <a href='vscode-notebook-cell:/home/carol/dev/ALX-T/Udacity-Exercises/Project2%20-%20Wrangling%20and%20Analyzing%20Data/we_rate_dogs_analysis.ipynb#ch0000016?line=3'>4</a>\u001b[0m tweets \u001b[39m=\u001b[39m tweepy\u001b[39m.\u001b[39mCursor(api\u001b[39m.\u001b[39muser_timeline,\u001b[39mid\u001b[39m\u001b[39m=\u001b[39musername)\u001b[39m.\u001b[39mitems(count)\n\u001b[0;32m----> <a href='vscode-notebook-cell:/home/carol/dev/ALX-T/Udacity-Exercises/Project2%20-%20Wrangling%20and%20Analyzing%20Data/we_rate_dogs_analysis.ipynb#ch0000016?line=5'>6</a>\u001b[0m tweets_list \u001b[39m=\u001b[39m [[tweet\u001b[39m.\u001b[39mtext, tweet\u001b[39m.\u001b[39mcreated_at, tweet\u001b[39m.\u001b[39mid_str, \n\u001b[1;32m      <a href='vscode-notebook-cell:/home/carol/dev/ALX-T/Udacity-Exercises/Project2%20-%20Wrangling%20and%20Analyzing%20Data/we_rate_dogs_analysis.ipynb#ch0000016?line=6'>7</a>\u001b[0m tweet\u001b[39m.\u001b[39mretweet_count, tweet\u001b[39m.\u001b[39mfavorite_count, tweet\u001b[39m.\u001b[39mlang, \n\u001b[1;32m      <a href='vscode-notebook-cell:/home/carol/dev/ALX-T/Udacity-Exercises/Project2%20-%20Wrangling%20and%20Analyzing%20Data/we_rate_dogs_analysis.ipynb#ch0000016?line=7'>8</a>\u001b[0m tweet\u001b[39m.\u001b[39msource] \u001b[39mfor\u001b[39;00m tweet \u001b[39min\u001b[39;00m tweets]\n",
      "File \u001b[0;32m~/dev/ALX-T/Udacity-Exercises/Project2 - Wrangling and Analyzing Data/proj2_env/lib/python3.8/site-packages/tweepy/cursor.py:86\u001b[0m, in \u001b[0;36mBaseIterator.__next__\u001b[0;34m(self)\u001b[0m\n\u001b[1;32m     <a href='file:///home/carol/dev/ALX-T/Udacity-Exercises/Project2%20-%20Wrangling%20and%20Analyzing%20Data/proj2_env/lib/python3.8/site-packages/tweepy/cursor.py?line=84'>85</a>\u001b[0m \u001b[39mdef\u001b[39;00m \u001b[39m__next__\u001b[39m(\u001b[39mself\u001b[39m):\n\u001b[0;32m---> <a href='file:///home/carol/dev/ALX-T/Udacity-Exercises/Project2%20-%20Wrangling%20and%20Analyzing%20Data/proj2_env/lib/python3.8/site-packages/tweepy/cursor.py?line=85'>86</a>\u001b[0m     \u001b[39mreturn\u001b[39;00m \u001b[39mself\u001b[39;49m\u001b[39m.\u001b[39;49mnext()\n",
      "File \u001b[0;32m~/dev/ALX-T/Udacity-Exercises/Project2 - Wrangling and Analyzing Data/proj2_env/lib/python3.8/site-packages/tweepy/cursor.py:286\u001b[0m, in \u001b[0;36mItemIterator.next\u001b[0;34m(self)\u001b[0m\n\u001b[1;32m    <a href='file:///home/carol/dev/ALX-T/Udacity-Exercises/Project2%20-%20Wrangling%20and%20Analyzing%20Data/proj2_env/lib/python3.8/site-packages/tweepy/cursor.py?line=282'>283</a>\u001b[0m     \u001b[39mraise\u001b[39;00m \u001b[39mStopIteration\u001b[39;00m\n\u001b[1;32m    <a href='file:///home/carol/dev/ALX-T/Udacity-Exercises/Project2%20-%20Wrangling%20and%20Analyzing%20Data/proj2_env/lib/python3.8/site-packages/tweepy/cursor.py?line=283'>284</a>\u001b[0m \u001b[39mif\u001b[39;00m \u001b[39mself\u001b[39m\u001b[39m.\u001b[39mcurrent_page \u001b[39mis\u001b[39;00m \u001b[39mNone\u001b[39;00m \u001b[39mor\u001b[39;00m \u001b[39mself\u001b[39m\u001b[39m.\u001b[39mpage_index \u001b[39m==\u001b[39m \u001b[39mlen\u001b[39m(\u001b[39mself\u001b[39m\u001b[39m.\u001b[39mcurrent_page) \u001b[39m-\u001b[39m \u001b[39m1\u001b[39m:\n\u001b[1;32m    <a href='file:///home/carol/dev/ALX-T/Udacity-Exercises/Project2%20-%20Wrangling%20and%20Analyzing%20Data/proj2_env/lib/python3.8/site-packages/tweepy/cursor.py?line=284'>285</a>\u001b[0m     \u001b[39m# Reached end of current page, get the next page...\u001b[39;00m\n\u001b[0;32m--> <a href='file:///home/carol/dev/ALX-T/Udacity-Exercises/Project2%20-%20Wrangling%20and%20Analyzing%20Data/proj2_env/lib/python3.8/site-packages/tweepy/cursor.py?line=285'>286</a>\u001b[0m     \u001b[39mself\u001b[39m\u001b[39m.\u001b[39mcurrent_page \u001b[39m=\u001b[39m \u001b[39mnext\u001b[39;49m(\u001b[39mself\u001b[39;49m\u001b[39m.\u001b[39;49mpage_iterator)\n\u001b[1;32m    <a href='file:///home/carol/dev/ALX-T/Udacity-Exercises/Project2%20-%20Wrangling%20and%20Analyzing%20Data/proj2_env/lib/python3.8/site-packages/tweepy/cursor.py?line=286'>287</a>\u001b[0m     \u001b[39mwhile\u001b[39;00m \u001b[39mlen\u001b[39m(\u001b[39mself\u001b[39m\u001b[39m.\u001b[39mcurrent_page) \u001b[39m==\u001b[39m \u001b[39m0\u001b[39m:\n\u001b[1;32m    <a href='file:///home/carol/dev/ALX-T/Udacity-Exercises/Project2%20-%20Wrangling%20and%20Analyzing%20Data/proj2_env/lib/python3.8/site-packages/tweepy/cursor.py?line=287'>288</a>\u001b[0m         \u001b[39mself\u001b[39m\u001b[39m.\u001b[39mcurrent_page \u001b[39m=\u001b[39m \u001b[39mnext\u001b[39m(\u001b[39mself\u001b[39m\u001b[39m.\u001b[39mpage_iterator)\n",
      "File \u001b[0;32m~/dev/ALX-T/Udacity-Exercises/Project2 - Wrangling and Analyzing Data/proj2_env/lib/python3.8/site-packages/tweepy/cursor.py:86\u001b[0m, in \u001b[0;36mBaseIterator.__next__\u001b[0;34m(self)\u001b[0m\n\u001b[1;32m     <a href='file:///home/carol/dev/ALX-T/Udacity-Exercises/Project2%20-%20Wrangling%20and%20Analyzing%20Data/proj2_env/lib/python3.8/site-packages/tweepy/cursor.py?line=84'>85</a>\u001b[0m \u001b[39mdef\u001b[39;00m \u001b[39m__next__\u001b[39m(\u001b[39mself\u001b[39m):\n\u001b[0;32m---> <a href='file:///home/carol/dev/ALX-T/Udacity-Exercises/Project2%20-%20Wrangling%20and%20Analyzing%20Data/proj2_env/lib/python3.8/site-packages/tweepy/cursor.py?line=85'>86</a>\u001b[0m     \u001b[39mreturn\u001b[39;00m \u001b[39mself\u001b[39;49m\u001b[39m.\u001b[39;49mnext()\n",
      "File \u001b[0;32m~/dev/ALX-T/Udacity-Exercises/Project2 - Wrangling and Analyzing Data/proj2_env/lib/python3.8/site-packages/tweepy/cursor.py:167\u001b[0m, in \u001b[0;36mIdIterator.next\u001b[0;34m(self)\u001b[0m\n\u001b[1;32m    <a href='file:///home/carol/dev/ALX-T/Udacity-Exercises/Project2%20-%20Wrangling%20and%20Analyzing%20Data/proj2_env/lib/python3.8/site-packages/tweepy/cursor.py?line=163'>164</a>\u001b[0m     \u001b[39mraise\u001b[39;00m \u001b[39mStopIteration\u001b[39;00m\n\u001b[1;32m    <a href='file:///home/carol/dev/ALX-T/Udacity-Exercises/Project2%20-%20Wrangling%20and%20Analyzing%20Data/proj2_env/lib/python3.8/site-packages/tweepy/cursor.py?line=165'>166</a>\u001b[0m \u001b[39mif\u001b[39;00m \u001b[39mself\u001b[39m\u001b[39m.\u001b[39mindex \u001b[39m>\u001b[39m\u001b[39m=\u001b[39m \u001b[39mlen\u001b[39m(\u001b[39mself\u001b[39m\u001b[39m.\u001b[39mresults) \u001b[39m-\u001b[39m \u001b[39m1\u001b[39m:\n\u001b[0;32m--> <a href='file:///home/carol/dev/ALX-T/Udacity-Exercises/Project2%20-%20Wrangling%20and%20Analyzing%20Data/proj2_env/lib/python3.8/site-packages/tweepy/cursor.py?line=166'>167</a>\u001b[0m     data \u001b[39m=\u001b[39m \u001b[39mself\u001b[39;49m\u001b[39m.\u001b[39;49mmethod(max_id\u001b[39m=\u001b[39;49m\u001b[39mself\u001b[39;49m\u001b[39m.\u001b[39;49mmax_id, parser\u001b[39m=\u001b[39;49mRawParser(), \u001b[39m*\u001b[39;49m\u001b[39mself\u001b[39;49m\u001b[39m.\u001b[39;49margs, \u001b[39m*\u001b[39;49m\u001b[39m*\u001b[39;49m\u001b[39mself\u001b[39;49m\u001b[39m.\u001b[39;49mkwargs)\n\u001b[1;32m    <a href='file:///home/carol/dev/ALX-T/Udacity-Exercises/Project2%20-%20Wrangling%20and%20Analyzing%20Data/proj2_env/lib/python3.8/site-packages/tweepy/cursor.py?line=168'>169</a>\u001b[0m     model \u001b[39m=\u001b[39m ModelParser()\u001b[39m.\u001b[39mparse(\n\u001b[1;32m    <a href='file:///home/carol/dev/ALX-T/Udacity-Exercises/Project2%20-%20Wrangling%20and%20Analyzing%20Data/proj2_env/lib/python3.8/site-packages/tweepy/cursor.py?line=169'>170</a>\u001b[0m         data, api \u001b[39m=\u001b[39m \u001b[39mself\u001b[39m\u001b[39m.\u001b[39mmethod\u001b[39m.\u001b[39m\u001b[39m__self__\u001b[39m,\n\u001b[1;32m    <a href='file:///home/carol/dev/ALX-T/Udacity-Exercises/Project2%20-%20Wrangling%20and%20Analyzing%20Data/proj2_env/lib/python3.8/site-packages/tweepy/cursor.py?line=170'>171</a>\u001b[0m         payload_list\u001b[39m=\u001b[39m\u001b[39mself\u001b[39m\u001b[39m.\u001b[39mmethod\u001b[39m.\u001b[39mpayload_list,\n\u001b[1;32m    <a href='file:///home/carol/dev/ALX-T/Udacity-Exercises/Project2%20-%20Wrangling%20and%20Analyzing%20Data/proj2_env/lib/python3.8/site-packages/tweepy/cursor.py?line=171'>172</a>\u001b[0m         payload_type\u001b[39m=\u001b[39m\u001b[39mself\u001b[39m\u001b[39m.\u001b[39mmethod\u001b[39m.\u001b[39mpayload_type\n\u001b[1;32m    <a href='file:///home/carol/dev/ALX-T/Udacity-Exercises/Project2%20-%20Wrangling%20and%20Analyzing%20Data/proj2_env/lib/python3.8/site-packages/tweepy/cursor.py?line=172'>173</a>\u001b[0m     )\n\u001b[1;32m    <a href='file:///home/carol/dev/ALX-T/Udacity-Exercises/Project2%20-%20Wrangling%20and%20Analyzing%20Data/proj2_env/lib/python3.8/site-packages/tweepy/cursor.py?line=173'>174</a>\u001b[0m     result \u001b[39m=\u001b[39m \u001b[39mself\u001b[39m\u001b[39m.\u001b[39mmethod\u001b[39m.\u001b[39m\u001b[39m__self__\u001b[39m\u001b[39m.\u001b[39mparser\u001b[39m.\u001b[39mparse(\n\u001b[1;32m    <a href='file:///home/carol/dev/ALX-T/Udacity-Exercises/Project2%20-%20Wrangling%20and%20Analyzing%20Data/proj2_env/lib/python3.8/site-packages/tweepy/cursor.py?line=174'>175</a>\u001b[0m         data, api \u001b[39m=\u001b[39m \u001b[39mself\u001b[39m\u001b[39m.\u001b[39mmethod\u001b[39m.\u001b[39m\u001b[39m__self__\u001b[39m,\n\u001b[1;32m    <a href='file:///home/carol/dev/ALX-T/Udacity-Exercises/Project2%20-%20Wrangling%20and%20Analyzing%20Data/proj2_env/lib/python3.8/site-packages/tweepy/cursor.py?line=175'>176</a>\u001b[0m         payload_list\u001b[39m=\u001b[39m\u001b[39mself\u001b[39m\u001b[39m.\u001b[39mmethod\u001b[39m.\u001b[39mpayload_list,\n\u001b[1;32m    <a href='file:///home/carol/dev/ALX-T/Udacity-Exercises/Project2%20-%20Wrangling%20and%20Analyzing%20Data/proj2_env/lib/python3.8/site-packages/tweepy/cursor.py?line=176'>177</a>\u001b[0m         payload_type\u001b[39m=\u001b[39m\u001b[39mself\u001b[39m\u001b[39m.\u001b[39mmethod\u001b[39m.\u001b[39mpayload_type\n\u001b[1;32m    <a href='file:///home/carol/dev/ALX-T/Udacity-Exercises/Project2%20-%20Wrangling%20and%20Analyzing%20Data/proj2_env/lib/python3.8/site-packages/tweepy/cursor.py?line=177'>178</a>\u001b[0m     )\n",
      "File \u001b[0;32m~/dev/ALX-T/Udacity-Exercises/Project2 - Wrangling and Analyzing Data/proj2_env/lib/python3.8/site-packages/tweepy/api.py:33\u001b[0m, in \u001b[0;36mpagination.<locals>.decorator.<locals>.wrapper\u001b[0;34m(*args, **kwargs)\u001b[0m\n\u001b[1;32m     <a href='file:///home/carol/dev/ALX-T/Udacity-Exercises/Project2%20-%20Wrangling%20and%20Analyzing%20Data/proj2_env/lib/python3.8/site-packages/tweepy/api.py?line=30'>31</a>\u001b[0m \u001b[39m@functools\u001b[39m\u001b[39m.\u001b[39mwraps(method)\n\u001b[1;32m     <a href='file:///home/carol/dev/ALX-T/Udacity-Exercises/Project2%20-%20Wrangling%20and%20Analyzing%20Data/proj2_env/lib/python3.8/site-packages/tweepy/api.py?line=31'>32</a>\u001b[0m \u001b[39mdef\u001b[39;00m \u001b[39mwrapper\u001b[39m(\u001b[39m*\u001b[39margs, \u001b[39m*\u001b[39m\u001b[39m*\u001b[39mkwargs):\n\u001b[0;32m---> <a href='file:///home/carol/dev/ALX-T/Udacity-Exercises/Project2%20-%20Wrangling%20and%20Analyzing%20Data/proj2_env/lib/python3.8/site-packages/tweepy/api.py?line=32'>33</a>\u001b[0m     \u001b[39mreturn\u001b[39;00m method(\u001b[39m*\u001b[39;49margs, \u001b[39m*\u001b[39;49m\u001b[39m*\u001b[39;49mkwargs)\n",
      "File \u001b[0;32m~/dev/ALX-T/Udacity-Exercises/Project2 - Wrangling and Analyzing Data/proj2_env/lib/python3.8/site-packages/tweepy/api.py:46\u001b[0m, in \u001b[0;36mpayload.<locals>.decorator.<locals>.wrapper\u001b[0;34m(*args, **kwargs)\u001b[0m\n\u001b[1;32m     <a href='file:///home/carol/dev/ALX-T/Udacity-Exercises/Project2%20-%20Wrangling%20and%20Analyzing%20Data/proj2_env/lib/python3.8/site-packages/tweepy/api.py?line=43'>44</a>\u001b[0m kwargs[\u001b[39m'\u001b[39m\u001b[39mpayload_list\u001b[39m\u001b[39m'\u001b[39m] \u001b[39m=\u001b[39m payload_list\n\u001b[1;32m     <a href='file:///home/carol/dev/ALX-T/Udacity-Exercises/Project2%20-%20Wrangling%20and%20Analyzing%20Data/proj2_env/lib/python3.8/site-packages/tweepy/api.py?line=44'>45</a>\u001b[0m kwargs[\u001b[39m'\u001b[39m\u001b[39mpayload_type\u001b[39m\u001b[39m'\u001b[39m] \u001b[39m=\u001b[39m payload_type\n\u001b[0;32m---> <a href='file:///home/carol/dev/ALX-T/Udacity-Exercises/Project2%20-%20Wrangling%20and%20Analyzing%20Data/proj2_env/lib/python3.8/site-packages/tweepy/api.py?line=45'>46</a>\u001b[0m \u001b[39mreturn\u001b[39;00m method(\u001b[39m*\u001b[39;49margs, \u001b[39m*\u001b[39;49m\u001b[39m*\u001b[39;49mkwargs)\n",
      "File \u001b[0;32m~/dev/ALX-T/Udacity-Exercises/Project2 - Wrangling and Analyzing Data/proj2_env/lib/python3.8/site-packages/tweepy/api.py:571\u001b[0m, in \u001b[0;36mAPI.user_timeline\u001b[0;34m(self, **kwargs)\u001b[0m\n\u001b[1;32m    <a href='file:///home/carol/dev/ALX-T/Udacity-Exercises/Project2%20-%20Wrangling%20and%20Analyzing%20Data/proj2_env/lib/python3.8/site-packages/tweepy/api.py?line=529'>530</a>\u001b[0m \u001b[39m@pagination\u001b[39m(mode\u001b[39m=\u001b[39m\u001b[39m'\u001b[39m\u001b[39mid\u001b[39m\u001b[39m'\u001b[39m)\n\u001b[1;32m    <a href='file:///home/carol/dev/ALX-T/Udacity-Exercises/Project2%20-%20Wrangling%20and%20Analyzing%20Data/proj2_env/lib/python3.8/site-packages/tweepy/api.py?line=530'>531</a>\u001b[0m \u001b[39m@payload\u001b[39m(\u001b[39m'\u001b[39m\u001b[39mstatus\u001b[39m\u001b[39m'\u001b[39m, \u001b[39mlist\u001b[39m\u001b[39m=\u001b[39m\u001b[39mTrue\u001b[39;00m)\n\u001b[1;32m    <a href='file:///home/carol/dev/ALX-T/Udacity-Exercises/Project2%20-%20Wrangling%20and%20Analyzing%20Data/proj2_env/lib/python3.8/site-packages/tweepy/api.py?line=531'>532</a>\u001b[0m \u001b[39mdef\u001b[39;00m \u001b[39muser_timeline\u001b[39m(\u001b[39mself\u001b[39m, \u001b[39m*\u001b[39m\u001b[39m*\u001b[39mkwargs):\n\u001b[1;32m    <a href='file:///home/carol/dev/ALX-T/Udacity-Exercises/Project2%20-%20Wrangling%20and%20Analyzing%20Data/proj2_env/lib/python3.8/site-packages/tweepy/api.py?line=532'>533</a>\u001b[0m     \u001b[39m\"\"\"user_timeline(*, user_id, screen_name, since_id, count, max_id, \\\u001b[39;00m\n\u001b[1;32m    <a href='file:///home/carol/dev/ALX-T/Udacity-Exercises/Project2%20-%20Wrangling%20and%20Analyzing%20Data/proj2_env/lib/python3.8/site-packages/tweepy/api.py?line=533'>534</a>\u001b[0m \u001b[39m                     trim_user, exclude_replies, include_rts)\u001b[39;00m\n\u001b[1;32m    <a href='file:///home/carol/dev/ALX-T/Udacity-Exercises/Project2%20-%20Wrangling%20and%20Analyzing%20Data/proj2_env/lib/python3.8/site-packages/tweepy/api.py?line=534'>535</a>\u001b[0m \n\u001b[0;32m   (...)\u001b[0m\n\u001b[1;32m    <a href='file:///home/carol/dev/ALX-T/Udacity-Exercises/Project2%20-%20Wrangling%20and%20Analyzing%20Data/proj2_env/lib/python3.8/site-packages/tweepy/api.py?line=568'>569</a>\u001b[0m \u001b[39m    https://developer.twitter.com/en/docs/twitter-api/v1/tweets/timelines/api-reference/get-statuses-user_timeline\u001b[39;00m\n\u001b[1;32m    <a href='file:///home/carol/dev/ALX-T/Udacity-Exercises/Project2%20-%20Wrangling%20and%20Analyzing%20Data/proj2_env/lib/python3.8/site-packages/tweepy/api.py?line=569'>570</a>\u001b[0m \u001b[39m    \"\"\"\u001b[39;00m\n\u001b[0;32m--> <a href='file:///home/carol/dev/ALX-T/Udacity-Exercises/Project2%20-%20Wrangling%20and%20Analyzing%20Data/proj2_env/lib/python3.8/site-packages/tweepy/api.py?line=570'>571</a>\u001b[0m     \u001b[39mreturn\u001b[39;00m \u001b[39mself\u001b[39;49m\u001b[39m.\u001b[39;49mrequest(\n\u001b[1;32m    <a href='file:///home/carol/dev/ALX-T/Udacity-Exercises/Project2%20-%20Wrangling%20and%20Analyzing%20Data/proj2_env/lib/python3.8/site-packages/tweepy/api.py?line=571'>572</a>\u001b[0m         \u001b[39m'\u001b[39;49m\u001b[39mGET\u001b[39;49m\u001b[39m'\u001b[39;49m, \u001b[39m'\u001b[39;49m\u001b[39mstatuses/user_timeline\u001b[39;49m\u001b[39m'\u001b[39;49m, endpoint_parameters\u001b[39m=\u001b[39;49m(\n\u001b[1;32m    <a href='file:///home/carol/dev/ALX-T/Udacity-Exercises/Project2%20-%20Wrangling%20and%20Analyzing%20Data/proj2_env/lib/python3.8/site-packages/tweepy/api.py?line=572'>573</a>\u001b[0m             \u001b[39m'\u001b[39;49m\u001b[39muser_id\u001b[39;49m\u001b[39m'\u001b[39;49m, \u001b[39m'\u001b[39;49m\u001b[39mscreen_name\u001b[39;49m\u001b[39m'\u001b[39;49m, \u001b[39m'\u001b[39;49m\u001b[39msince_id\u001b[39;49m\u001b[39m'\u001b[39;49m, \u001b[39m'\u001b[39;49m\u001b[39mcount\u001b[39;49m\u001b[39m'\u001b[39;49m, \u001b[39m'\u001b[39;49m\u001b[39mmax_id\u001b[39;49m\u001b[39m'\u001b[39;49m,\n\u001b[1;32m    <a href='file:///home/carol/dev/ALX-T/Udacity-Exercises/Project2%20-%20Wrangling%20and%20Analyzing%20Data/proj2_env/lib/python3.8/site-packages/tweepy/api.py?line=573'>574</a>\u001b[0m             \u001b[39m'\u001b[39;49m\u001b[39mtrim_user\u001b[39;49m\u001b[39m'\u001b[39;49m, \u001b[39m'\u001b[39;49m\u001b[39mexclude_replies\u001b[39;49m\u001b[39m'\u001b[39;49m, \u001b[39m'\u001b[39;49m\u001b[39minclude_rts\u001b[39;49m\u001b[39m'\u001b[39;49m\n\u001b[1;32m    <a href='file:///home/carol/dev/ALX-T/Udacity-Exercises/Project2%20-%20Wrangling%20and%20Analyzing%20Data/proj2_env/lib/python3.8/site-packages/tweepy/api.py?line=574'>575</a>\u001b[0m         ), \u001b[39m*\u001b[39;49m\u001b[39m*\u001b[39;49mkwargs\n\u001b[1;32m    <a href='file:///home/carol/dev/ALX-T/Udacity-Exercises/Project2%20-%20Wrangling%20and%20Analyzing%20Data/proj2_env/lib/python3.8/site-packages/tweepy/api.py?line=575'>576</a>\u001b[0m     )\n",
      "File \u001b[0;32m~/dev/ALX-T/Udacity-Exercises/Project2 - Wrangling and Analyzing Data/proj2_env/lib/python3.8/site-packages/tweepy/api.py:259\u001b[0m, in \u001b[0;36mAPI.request\u001b[0;34m(self, method, endpoint, endpoint_parameters, params, headers, json_payload, parser, payload_list, payload_type, post_data, files, require_auth, return_cursors, upload_api, use_cache, **kwargs)\u001b[0m\n\u001b[1;32m    <a href='file:///home/carol/dev/ALX-T/Udacity-Exercises/Project2%20-%20Wrangling%20and%20Analyzing%20Data/proj2_env/lib/python3.8/site-packages/tweepy/api.py?line=256'>257</a>\u001b[0m     \u001b[39mraise\u001b[39;00m Unauthorized(resp)\n\u001b[1;32m    <a href='file:///home/carol/dev/ALX-T/Udacity-Exercises/Project2%20-%20Wrangling%20and%20Analyzing%20Data/proj2_env/lib/python3.8/site-packages/tweepy/api.py?line=257'>258</a>\u001b[0m \u001b[39mif\u001b[39;00m resp\u001b[39m.\u001b[39mstatus_code \u001b[39m==\u001b[39m \u001b[39m403\u001b[39m:\n\u001b[0;32m--> <a href='file:///home/carol/dev/ALX-T/Udacity-Exercises/Project2%20-%20Wrangling%20and%20Analyzing%20Data/proj2_env/lib/python3.8/site-packages/tweepy/api.py?line=258'>259</a>\u001b[0m     \u001b[39mraise\u001b[39;00m Forbidden(resp)\n\u001b[1;32m    <a href='file:///home/carol/dev/ALX-T/Udacity-Exercises/Project2%20-%20Wrangling%20and%20Analyzing%20Data/proj2_env/lib/python3.8/site-packages/tweepy/api.py?line=259'>260</a>\u001b[0m \u001b[39mif\u001b[39;00m resp\u001b[39m.\u001b[39mstatus_code \u001b[39m==\u001b[39m \u001b[39m404\u001b[39m:\n\u001b[1;32m    <a href='file:///home/carol/dev/ALX-T/Udacity-Exercises/Project2%20-%20Wrangling%20and%20Analyzing%20Data/proj2_env/lib/python3.8/site-packages/tweepy/api.py?line=260'>261</a>\u001b[0m     \u001b[39mraise\u001b[39;00m NotFound(resp)\n",
      "\u001b[0;31mForbidden\u001b[0m: 403 Forbidden\n453 - You currently have Essential access which includes access to Twitter API v2 endpoints only. If you need access to this endpoint, you’ll need to apply for Elevated access via the Developer Portal. You can learn more here: https://developer.twitter.com/en/docs/twitter-api/getting-started/about-twitter-api#v2-access-leve"
     ]
    }
   ],
   "source": [
    "username = 'dog_rates'\n",
    "count = 10\n",
    "\n",
    "tweets = tweepy.Cursor(api.user_timeline,id=username).items(count)\n",
    "\n",
    "tweets_list = [[tweet.text, tweet.created_at, tweet.id_str, \n",
    "tweet.retweet_count, tweet.favorite_count, tweet.lang, \n",
    "tweet.source] for tweet in tweets]"
   ]
  },
  {
   "cell_type": "code",
   "execution_count": null,
   "metadata": {},
   "outputs": [],
   "source": [
    "for tweet in tweets:\n",
    "    "
   ]
  }
 ],
 "metadata": {
  "interpreter": {
   "hash": "0fdf2fa849256151a362cdfe89fd2137bd987423cce6beba53a5dde57a1b4499"
  },
  "kernelspec": {
   "display_name": "Python 3",
   "language": "python",
   "name": "python3"
  },
  "language_info": {
   "codemirror_mode": {
    "name": "ipython",
    "version": 3
   },
   "file_extension": ".py",
   "mimetype": "text/x-python",
   "name": "python",
   "nbconvert_exporter": "python",
   "pygments_lexer": "ipython3",
   "version": "3.8.10"
  }
 },
 "nbformat": 4,
 "nbformat_minor": 2
}
